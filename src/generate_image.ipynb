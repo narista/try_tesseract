{
 "cells": [
  {
   "cell_type": "markdown",
   "metadata": {},
   "source": [
    "# Synthesizes the text image\n",
    "\n",
    "It is always one of the headaches for us to gather images and add accurate labels to train and test the models for the computer vision tasks. However, in case of OCR, I think it will be little easier than the other computer vision tasks since we can generate several types of image and accurate labels easily. I am going to introduce how to add a text on the background image for the OCR task.\n",
    "\n",
    "## Import libraries\n",
    "\n",
    "We use the following libraries to synthesize the text image."
   ]
  },
  {
   "cell_type": "code",
   "execution_count": 1,
   "metadata": {},
   "outputs": [],
   "source": [
    "import numpy as np\n",
    "import cv2\n",
    "from PIL import Image, ImageDraw, ImageFont, ImageFilter, ImageChops, ImageOps\n",
    "import matplotlib.pyplot as plt\n",
    "%matplotlib inline\n",
    "\n",
    "# \"%matplotlib inline\" is a curse to show the image in the notebook :-)"
   ]
  },
  {
   "cell_type": "markdown",
   "metadata": {},
   "source": [
    "## Loads the background image\n",
    "\n",
    "Let's load the background image as full color. This background image is a part of a carpet that I took by my iPhone."
   ]
  },
  {
   "cell_type": "code",
   "execution_count": 2,
   "metadata": {
    "scrolled": true
   },
   "outputs": [
    {
     "data": {
      "text/plain": [
       "<matplotlib.image.AxesImage at 0x121b7bac8>"
      ]
     },
     "execution_count": 2,
     "metadata": {},
     "output_type": "execute_result"
    },
    {
     "data": {
      "image/png": "[encoded data removed]",
      "text/plain": [
       "<Figure size 432x288 with 1 Axes>"
      ]
     },
     "metadata": {
      "needs_background": "light"
     },
     "output_type": "display_data"
    }
   ],
   "source": [
    "# Read the background image as full colored image.\n",
    "background = Image.open('../dataset/sample/background100x20.jpg').convert(\"RGBA\")\n",
    "\n",
    "plt.imshow(background)"
   ]
  },
  {
   "cell_type": "markdown",
   "metadata": {},
   "source": [
    "## Prepare foreground image\n",
    "\n",
    "Let's create an empty image to draw the text as foreground. This image has the same size as the background image, and we can place any text on the image. The following code calculates the start position of X-axis and Y-axis to centerize the text in the background image with considering the spacing between characters."
   ]
  },
  {
   "cell_type": "code",
   "execution_count": 3,
   "metadata": {},
   "outputs": [],
   "source": [
    "# Makes a transparent foreground image for the text. (The alpha channel is zero)\n",
    "foreground = Image.new('RGBA', background.size, (255,255,255,0))\n",
    "\n",
    "# Gets a font with size 13\n",
    "fnt = ImageFont.truetype('/Library/Fonts/Arial Bold.ttf', 13)\n",
    "\n",
    "text = 'AK08587778'\n",
    "\n",
    "# Kerning is the spacing size between characters.\n",
    "kerning = 1\n",
    "\n",
    "# Sets the start positon of the text to center the text virtically and horizontally with considering kerning\n",
    "X = (foreground.size[0] - fnt.getsize(text)[0] - kerning * (len(text) - 1)) / 2\n",
    "Y = (foreground.size[1] - fnt.getsize(\"A\")[1]) / 2 \n",
    "\n",
    "# Gets a drawing context\n",
    "d = ImageDraw.Draw(foreground)"
   ]
  },
  {
   "cell_type": "markdown",
   "metadata": {},
   "source": [
    "## Draws the text\n",
    "\n",
    "Draws the characters one by one on the foreground. The text is centered horizontally and virtically. Each character in the text has the same spacing. Blurs the foreground text as the edge between foreground text and the background image looks too clear."
   ]
  },
  {
   "cell_type": "code",
   "execution_count": 4,
   "metadata": {},
   "outputs": [
    {
     "name": "stdout",
     "output_type": "stream",
     "text": [
      "Image Size: (100, 20)\n"
     ]
    }
   ],
   "source": [
    "# Draw each character on the foreground \n",
    "for i in range(0, len(text)):\n",
    "    w, h = fnt.getsize(text[i])\n",
    "    # draw text, full opacity\n",
    "    d.text((X, Y), text[i], font=fnt, fill=(0,0,0,255))\n",
    "    X = X + w + kerning\n",
    "\n",
    "# Blur the foreground to smooth the edge between foreground and background\n",
    "img_blur = cv2.GaussianBlur(np.array(foreground), (1, 1), 0)\n",
    "\n",
    "# Mix the foreground with background\n",
    "out = Image.alpha_composite(background, Image.fromarray(img_blur))\n",
    "print('Image Size:', out.size)\n",
    "\n",
    "# Save the image as a test data.\n",
    "out.save('../dataset/sample/' + text + '.png')"
   ]
  },
  {
   "cell_type": "markdown",
   "metadata": {},
   "source": [
    "<img align=\"left\" src=\"../dataset/sample/AK08587778.png\" />"
   ]
  },
  {
   "cell_type": "markdown",
   "metadata": {},
   "source": [
    "# Conclusion\n",
    "\n",
    "The synthesized text image looks fine, isn't it? I got both accrate label (file name) and text image. I just introduced the concept how to synthesize the text image with accrate label. You can change this code to set the text to the random characters, or to repeat several times to get many different images that have different text, font or background images."
   ]
  },
  {
   "cell_type": "code",
   "execution_count": null,
   "metadata": {},
   "outputs": [],
   "source": []
  }
 ],
 "metadata": {
  "kernelspec": {
   "display_name": "Python 3",
   "language": "python",
   "name": "python3"
  },
  "language_info": {
   "codemirror_mode": {
    "name": "ipython",
    "version": 3
   },
   "file_extension": ".py",
   "mimetype": "text/x-python",
   "name": "python",
   "nbconvert_exporter": "python",
   "pygments_lexer": "ipython3",
   "version": "3.6.4"
  }
 },
 "nbformat": 4,
 "nbformat_minor": 2
}
